{
 "cells": [
  {
   "cell_type": "markdown",
   "id": "aa547735",
   "metadata": {
    "vscode": {
     "languageId": "plaintext"
    }
   },
   "source": [
    "#### In this step, we want to transform the time series data into Time-series data"
   ]
  },
  {
   "cell_type": "code",
   "execution_count": 15,
   "id": "38daa052",
   "metadata": {},
   "outputs": [],
   "source": [
    "import pandas as pd\n",
    "import numpy as np\n",
    "from tqdm import tqdm"
   ]
  },
  {
   "cell_type": "code",
   "execution_count": 2,
   "id": "d20e42f6",
   "metadata": {},
   "outputs": [
    {
     "data": {
      "text/html": [
       "<div>\n",
       "<style scoped>\n",
       "    .dataframe tbody tr th:only-of-type {\n",
       "        vertical-align: middle;\n",
       "    }\n",
       "\n",
       "    .dataframe tbody tr th {\n",
       "        vertical-align: top;\n",
       "    }\n",
       "\n",
       "    .dataframe thead th {\n",
       "        text-align: right;\n",
       "    }\n",
       "</style>\n",
       "<table border=\"1\" class=\"dataframe\">\n",
       "  <thead>\n",
       "    <tr style=\"text-align: right;\">\n",
       "      <th></th>\n",
       "      <th>pickup_datetime</th>\n",
       "      <th>pickup_location_id</th>\n",
       "    </tr>\n",
       "  </thead>\n",
       "  <tbody>\n",
       "    <tr>\n",
       "      <th>0</th>\n",
       "      <td>2022-01-01 00:35:40</td>\n",
       "      <td>142</td>\n",
       "    </tr>\n",
       "    <tr>\n",
       "      <th>1</th>\n",
       "      <td>2022-01-01 00:33:43</td>\n",
       "      <td>236</td>\n",
       "    </tr>\n",
       "    <tr>\n",
       "      <th>2</th>\n",
       "      <td>2022-01-01 00:53:21</td>\n",
       "      <td>166</td>\n",
       "    </tr>\n",
       "    <tr>\n",
       "      <th>3</th>\n",
       "      <td>2022-01-01 00:25:21</td>\n",
       "      <td>114</td>\n",
       "    </tr>\n",
       "    <tr>\n",
       "      <th>4</th>\n",
       "      <td>2022-01-01 00:36:48</td>\n",
       "      <td>68</td>\n",
       "    </tr>\n",
       "  </tbody>\n",
       "</table>\n",
       "</div>"
      ],
      "text/plain": [
       "      pickup_datetime  pickup_location_id\n",
       "0 2022-01-01 00:35:40                 142\n",
       "1 2022-01-01 00:33:43                 236\n",
       "2 2022-01-01 00:53:21                 166\n",
       "3 2022-01-01 00:25:21                 114\n",
       "4 2022-01-01 00:36:48                  68"
      ]
     },
     "execution_count": 2,
     "metadata": {},
     "output_type": "execute_result"
    }
   ],
   "source": [
    "rides = pd.read_parquet('../data/transformed/validated_rides_2022_01.parquet')\n",
    "rides.head(5)"
   ]
  },
  {
   "cell_type": "code",
   "execution_count": 3,
   "id": "917609aa",
   "metadata": {},
   "outputs": [],
   "source": [
    "## Then we'll add another column to the dataframe, whic represents the rounded hour for each hour"
   ]
  },
  {
   "cell_type": "code",
   "execution_count": 4,
   "id": "4c64edd1",
   "metadata": {},
   "outputs": [
    {
     "name": "stderr",
     "output_type": "stream",
     "text": [
      "/tmp/ipykernel_32215/2261653417.py:1: FutureWarning: 'H' is deprecated and will be removed in a future version, please use 'h' instead.\n",
      "  rides['pickup_hour'] = rides['pickup_datetime'].dt.floor('H')\n"
     ]
    },
    {
     "data": {
      "text/html": [
       "<div>\n",
       "<style scoped>\n",
       "    .dataframe tbody tr th:only-of-type {\n",
       "        vertical-align: middle;\n",
       "    }\n",
       "\n",
       "    .dataframe tbody tr th {\n",
       "        vertical-align: top;\n",
       "    }\n",
       "\n",
       "    .dataframe thead th {\n",
       "        text-align: right;\n",
       "    }\n",
       "</style>\n",
       "<table border=\"1\" class=\"dataframe\">\n",
       "  <thead>\n",
       "    <tr style=\"text-align: right;\">\n",
       "      <th></th>\n",
       "      <th>pickup_datetime</th>\n",
       "      <th>pickup_location_id</th>\n",
       "      <th>pickup_hour</th>\n",
       "    </tr>\n",
       "  </thead>\n",
       "  <tbody>\n",
       "    <tr>\n",
       "      <th>0</th>\n",
       "      <td>2022-01-01 00:35:40</td>\n",
       "      <td>142</td>\n",
       "      <td>2022-01-01 00:00:00</td>\n",
       "    </tr>\n",
       "    <tr>\n",
       "      <th>1</th>\n",
       "      <td>2022-01-01 00:33:43</td>\n",
       "      <td>236</td>\n",
       "      <td>2022-01-01 00:00:00</td>\n",
       "    </tr>\n",
       "    <tr>\n",
       "      <th>2</th>\n",
       "      <td>2022-01-01 00:53:21</td>\n",
       "      <td>166</td>\n",
       "      <td>2022-01-01 00:00:00</td>\n",
       "    </tr>\n",
       "    <tr>\n",
       "      <th>3</th>\n",
       "      <td>2022-01-01 00:25:21</td>\n",
       "      <td>114</td>\n",
       "      <td>2022-01-01 00:00:00</td>\n",
       "    </tr>\n",
       "    <tr>\n",
       "      <th>4</th>\n",
       "      <td>2022-01-01 00:36:48</td>\n",
       "      <td>68</td>\n",
       "      <td>2022-01-01 00:00:00</td>\n",
       "    </tr>\n",
       "    <tr>\n",
       "      <th>...</th>\n",
       "      <td>...</td>\n",
       "      <td>...</td>\n",
       "      <td>...</td>\n",
       "    </tr>\n",
       "    <tr>\n",
       "      <th>2463926</th>\n",
       "      <td>2022-01-31 23:36:53</td>\n",
       "      <td>90</td>\n",
       "      <td>2022-01-31 23:00:00</td>\n",
       "    </tr>\n",
       "    <tr>\n",
       "      <th>2463927</th>\n",
       "      <td>2022-01-31 23:44:22</td>\n",
       "      <td>107</td>\n",
       "      <td>2022-01-31 23:00:00</td>\n",
       "    </tr>\n",
       "    <tr>\n",
       "      <th>2463928</th>\n",
       "      <td>2022-01-31 23:39:00</td>\n",
       "      <td>113</td>\n",
       "      <td>2022-01-31 23:00:00</td>\n",
       "    </tr>\n",
       "    <tr>\n",
       "      <th>2463929</th>\n",
       "      <td>2022-01-31 23:36:42</td>\n",
       "      <td>148</td>\n",
       "      <td>2022-01-31 23:00:00</td>\n",
       "    </tr>\n",
       "    <tr>\n",
       "      <th>2463930</th>\n",
       "      <td>2022-01-31 23:46:00</td>\n",
       "      <td>186</td>\n",
       "      <td>2022-01-31 23:00:00</td>\n",
       "    </tr>\n",
       "  </tbody>\n",
       "</table>\n",
       "<p>2463879 rows × 3 columns</p>\n",
       "</div>"
      ],
      "text/plain": [
       "            pickup_datetime  pickup_location_id         pickup_hour\n",
       "0       2022-01-01 00:35:40                 142 2022-01-01 00:00:00\n",
       "1       2022-01-01 00:33:43                 236 2022-01-01 00:00:00\n",
       "2       2022-01-01 00:53:21                 166 2022-01-01 00:00:00\n",
       "3       2022-01-01 00:25:21                 114 2022-01-01 00:00:00\n",
       "4       2022-01-01 00:36:48                  68 2022-01-01 00:00:00\n",
       "...                     ...                 ...                 ...\n",
       "2463926 2022-01-31 23:36:53                  90 2022-01-31 23:00:00\n",
       "2463927 2022-01-31 23:44:22                 107 2022-01-31 23:00:00\n",
       "2463928 2022-01-31 23:39:00                 113 2022-01-31 23:00:00\n",
       "2463929 2022-01-31 23:36:42                 148 2022-01-31 23:00:00\n",
       "2463930 2022-01-31 23:46:00                 186 2022-01-31 23:00:00\n",
       "\n",
       "[2463879 rows x 3 columns]"
      ]
     },
     "execution_count": 4,
     "metadata": {},
     "output_type": "execute_result"
    }
   ],
   "source": [
    "rides['pickup_hour'] = rides['pickup_datetime'].dt.floor('H')\n",
    "rides"
   ]
  },
  {
   "cell_type": "code",
   "execution_count": 5,
   "id": "99a187b0",
   "metadata": {},
   "outputs": [],
   "source": [
    "### Now we want to group, per pickup hour, and per location id. So that we know the number of rides per location id per pickup hour"
   ]
  },
  {
   "cell_type": "code",
   "execution_count": 6,
   "id": "aebb6dc0",
   "metadata": {},
   "outputs": [],
   "source": [
    "agg_rides = rides.groupby(['pickup_hour','pickup_location_id']).size().reset_index()"
   ]
  },
  {
   "cell_type": "code",
   "execution_count": 8,
   "id": "94f43e50",
   "metadata": {},
   "outputs": [
    {
     "data": {
      "text/html": [
       "<div>\n",
       "<style scoped>\n",
       "    .dataframe tbody tr th:only-of-type {\n",
       "        vertical-align: middle;\n",
       "    }\n",
       "\n",
       "    .dataframe tbody tr th {\n",
       "        vertical-align: top;\n",
       "    }\n",
       "\n",
       "    .dataframe thead th {\n",
       "        text-align: right;\n",
       "    }\n",
       "</style>\n",
       "<table border=\"1\" class=\"dataframe\">\n",
       "  <thead>\n",
       "    <tr style=\"text-align: right;\">\n",
       "      <th></th>\n",
       "      <th>pickup_hour</th>\n",
       "      <th>pickup_location_id</th>\n",
       "      <th>rides</th>\n",
       "    </tr>\n",
       "  </thead>\n",
       "  <tbody>\n",
       "    <tr>\n",
       "      <th>0</th>\n",
       "      <td>2022-01-01</td>\n",
       "      <td>4</td>\n",
       "      <td>11</td>\n",
       "    </tr>\n",
       "    <tr>\n",
       "      <th>1</th>\n",
       "      <td>2022-01-01</td>\n",
       "      <td>7</td>\n",
       "      <td>6</td>\n",
       "    </tr>\n",
       "  </tbody>\n",
       "</table>\n",
       "</div>"
      ],
      "text/plain": [
       "  pickup_hour  pickup_location_id  rides\n",
       "0  2022-01-01                   4     11\n",
       "1  2022-01-01                   7      6"
      ]
     },
     "execution_count": 8,
     "metadata": {},
     "output_type": "execute_result"
    }
   ],
   "source": [
    "agg_rides.rename(columns= {\n",
    "    0: 'rides'\n",
    "},inplace = True)\n",
    "agg_rides.head(2)"
   ]
  },
  {
   "cell_type": "code",
   "execution_count": 13,
   "id": "f50f29b9",
   "metadata": {},
   "outputs": [],
   "source": [
    "## What we want to make sure though, is that the entire time-series is complete, so that each day has data, for example, we might be having data \n",
    "## in the first day, but during some hour on that day, there is no data, we want to make sure that it is filled with 0 for those location IDs."
   ]
  },
  {
   "cell_type": "code",
   "execution_count": null,
   "id": "bcdf0d54",
   "metadata": {},
   "outputs": [],
   "source": [
    "def add_missing_slots(agg_rides: pd.DataFrame) -> pd.DataFrame:\n",
    "    location_ids = agg_rides['pickup_location_id'].unique()\n",
    "    full_range = pd.date_range(agg_rides['pickup_hour'].min, agg_rides['pickup_hour'].max(), freq='H')\n",
    "    output = pd.DataFrame()\n",
    "\n",
    "    for location_id in tqdm(location_ids):\n",
    "        ## keep only the rides for this location id\n",
    "        agg_rides_i = agg_rides.loc[agg_rides.pickup_location_id == location_id,['pickup_hour','rides']]\n",
    "\n",
    "        ## Quickest way to add missing values with 0 in a series\n",
    "        ## Taken from https://stackoverflow.com/a/19324591\n",
    "        agg_rides_i.set_index('pickup_hour',inplace = True)\n",
    "        agg_rides_i.index = pd.DatetimeIndex(agg_rides_i.index)\n",
    "        agg_rides_i = agg_rides_i.reindex(full_range, fill_value = 0)\n",
    "        \n",
    "        ## Now add back the location_id columns\n",
    "        agg_rides_i['pickup_location_id'] = location_id\n",
    "        output = pd.concat([output, agg_rides_i])\n",
    "\n",
    "    output = output.reset_index().rename(columns = {'index': 'pickup_hour'})\n",
    "\n"
   ]
  },
  {
   "cell_type": "code",
   "execution_count": null,
   "id": "5ff8818f",
   "metadata": {},
   "outputs": [],
   "source": []
  }
 ],
 "metadata": {
  "kernelspec": {
   "display_name": "taxienv",
   "language": "python",
   "name": "python3"
  },
  "language_info": {
   "codemirror_mode": {
    "name": "ipython",
    "version": 3
   },
   "file_extension": ".py",
   "mimetype": "text/x-python",
   "name": "python",
   "nbconvert_exporter": "python",
   "pygments_lexer": "ipython3",
   "version": "3.12.3"
  }
 },
 "nbformat": 4,
 "nbformat_minor": 5
}
